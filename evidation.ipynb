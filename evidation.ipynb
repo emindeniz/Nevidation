{
 "cells": [
  {
   "cell_type": "code",
   "execution_count": 1,
   "metadata": {},
   "outputs": [],
   "source": [
    "%matplotlib inline\n",
    "import pandas as pd\n",
    "from os import listdir\n",
    "from matplotlib import pyplot as plt\n",
    "import numpy as np\n",
    "import glob, re\n",
    "import seaborn as sns\n",
    "from datetime import datetime,date\n",
    "np.random.seed(41)"
   ]
  },
  {
   "cell_type": "code",
   "execution_count": 2,
   "metadata": {},
   "outputs": [
    {
     "name": "stdout",
     "output_type": "stream",
     "text": [
      "TABLE_III._Deaths_in_122_U.S._cities.csv\n",
      "timeseries_events.csv\n",
      "timeseries_users.csv\n"
     ]
    }
   ],
   "source": [
    "%%bash\n",
    "ls data/"
   ]
  },
  {
   "cell_type": "code",
   "execution_count": 3,
   "metadata": {},
   "outputs": [],
   "source": [
    "data = pd.read_csv('data/TABLE_III._Deaths_in_122_U.S._cities.csv')\n",
    "events = pd.read_csv('data/timeseries_events.csv')\n",
    "users = pd.read_csv('data/timeseries_users.csv')"
   ]
  },
  {
   "cell_type": "markdown",
   "metadata": {},
   "source": [
    "# Question 4"
   ]
  },
  {
   "cell_type": "code",
   "execution_count": 45,
   "metadata": {},
   "outputs": [
    {
     "data": {
      "text/html": [
       "<div>\n",
       "<style scoped>\n",
       "    .dataframe tbody tr th:only-of-type {\n",
       "        vertical-align: middle;\n",
       "    }\n",
       "\n",
       "    .dataframe tbody tr th {\n",
       "        vertical-align: top;\n",
       "    }\n",
       "\n",
       "    .dataframe thead th {\n",
       "        text-align: right;\n",
       "    }\n",
       "</style>\n",
       "<table border=\"1\" class=\"dataframe\">\n",
       "  <thead>\n",
       "    <tr style=\"text-align: right;\">\n",
       "      <th></th>\n",
       "      <th>Reporting Area</th>\n",
       "      <th>MMWR YEAR</th>\n",
       "      <th>MMWR WEEK</th>\n",
       "      <th>All causes, by age (years), All Ages**</th>\n",
       "      <th>All causes, by age (years), All Ages**, flag</th>\n",
       "      <th>All causes, by age (years), &gt;=65</th>\n",
       "      <th>All causes, by age (years), &gt;=65, flag</th>\n",
       "      <th>All causes, by age (years), 45-64</th>\n",
       "      <th>All causes, by age (years), 45-64, flag</th>\n",
       "      <th>All causes, by age (years), 25-44</th>\n",
       "      <th>All causes, by age (years), 25-44, flag</th>\n",
       "      <th>All causes, by age (years), 1-24</th>\n",
       "      <th>All causes, by age (years), 1-24, flag</th>\n",
       "      <th>All causes, by age (years), LT 1</th>\n",
       "      <th>All causes, by age (years), LT 1, flag</th>\n",
       "      <th>P&amp;I Total</th>\n",
       "      <th>P&amp;I Total, flag</th>\n",
       "      <th>Location 1</th>\n",
       "      <th>Location 2</th>\n",
       "    </tr>\n",
       "  </thead>\n",
       "  <tbody>\n",
       "    <tr>\n",
       "      <th>0</th>\n",
       "      <td>New England</td>\n",
       "      <td>2016</td>\n",
       "      <td>1</td>\n",
       "      <td>600.0</td>\n",
       "      <td>NaN</td>\n",
       "      <td>426.0</td>\n",
       "      <td>NaN</td>\n",
       "      <td>125.0</td>\n",
       "      <td>NaN</td>\n",
       "      <td>28.0</td>\n",
       "      <td>NaN</td>\n",
       "      <td>12.0</td>\n",
       "      <td>NaN</td>\n",
       "      <td>9.0</td>\n",
       "      <td>NaN</td>\n",
       "      <td>47.0</td>\n",
       "      <td>NaN</td>\n",
       "      <td>NaN</td>\n",
       "      <td>NaN</td>\n",
       "    </tr>\n",
       "    <tr>\n",
       "      <th>1</th>\n",
       "      <td>Mid. Atlantic</td>\n",
       "      <td>2016</td>\n",
       "      <td>1</td>\n",
       "      <td>807.0</td>\n",
       "      <td>NaN</td>\n",
       "      <td>563.0</td>\n",
       "      <td>NaN</td>\n",
       "      <td>181.0</td>\n",
       "      <td>NaN</td>\n",
       "      <td>32.0</td>\n",
       "      <td>NaN</td>\n",
       "      <td>13.0</td>\n",
       "      <td>NaN</td>\n",
       "      <td>18.0</td>\n",
       "      <td>NaN</td>\n",
       "      <td>32.0</td>\n",
       "      <td>NaN</td>\n",
       "      <td>NaN</td>\n",
       "      <td>NaN</td>\n",
       "    </tr>\n",
       "    <tr>\n",
       "      <th>2</th>\n",
       "      <td>E.N. Central</td>\n",
       "      <td>2016</td>\n",
       "      <td>1</td>\n",
       "      <td>2468.0</td>\n",
       "      <td>NaN</td>\n",
       "      <td>1611.0</td>\n",
       "      <td>NaN</td>\n",
       "      <td>594.0</td>\n",
       "      <td>NaN</td>\n",
       "      <td>167.0</td>\n",
       "      <td>NaN</td>\n",
       "      <td>62.0</td>\n",
       "      <td>NaN</td>\n",
       "      <td>34.0</td>\n",
       "      <td>NaN</td>\n",
       "      <td>159.0</td>\n",
       "      <td>NaN</td>\n",
       "      <td>NaN</td>\n",
       "      <td>NaN</td>\n",
       "    </tr>\n",
       "    <tr>\n",
       "      <th>3</th>\n",
       "      <td>W.N. Central</td>\n",
       "      <td>2016</td>\n",
       "      <td>1</td>\n",
       "      <td>634.0</td>\n",
       "      <td>NaN</td>\n",
       "      <td>432.0</td>\n",
       "      <td>NaN</td>\n",
       "      <td>150.0</td>\n",
       "      <td>NaN</td>\n",
       "      <td>31.0</td>\n",
       "      <td>NaN</td>\n",
       "      <td>9.0</td>\n",
       "      <td>NaN</td>\n",
       "      <td>11.0</td>\n",
       "      <td>NaN</td>\n",
       "      <td>37.0</td>\n",
       "      <td>NaN</td>\n",
       "      <td>NaN</td>\n",
       "      <td>NaN</td>\n",
       "    </tr>\n",
       "    <tr>\n",
       "      <th>4</th>\n",
       "      <td>S. Atlantic</td>\n",
       "      <td>2016</td>\n",
       "      <td>1</td>\n",
       "      <td>1402.0</td>\n",
       "      <td>NaN</td>\n",
       "      <td>893.0</td>\n",
       "      <td>NaN</td>\n",
       "      <td>343.0</td>\n",
       "      <td>NaN</td>\n",
       "      <td>92.0</td>\n",
       "      <td>NaN</td>\n",
       "      <td>32.0</td>\n",
       "      <td>NaN</td>\n",
       "      <td>41.0</td>\n",
       "      <td>NaN</td>\n",
       "      <td>88.0</td>\n",
       "      <td>NaN</td>\n",
       "      <td>NaN</td>\n",
       "      <td>NaN</td>\n",
       "    </tr>\n",
       "  </tbody>\n",
       "</table>\n",
       "</div>"
      ],
      "text/plain": [
       "  Reporting Area  MMWR YEAR  MMWR WEEK  \\\n",
       "0    New England       2016          1   \n",
       "1  Mid. Atlantic       2016          1   \n",
       "2   E.N. Central       2016          1   \n",
       "3   W.N. Central       2016          1   \n",
       "4    S. Atlantic       2016          1   \n",
       "\n",
       "   All causes, by age (years), All Ages**  \\\n",
       "0                                   600.0   \n",
       "1                                   807.0   \n",
       "2                                  2468.0   \n",
       "3                                   634.0   \n",
       "4                                  1402.0   \n",
       "\n",
       "  All causes, by age (years), All Ages**, flag  \\\n",
       "0                                          NaN   \n",
       "1                                          NaN   \n",
       "2                                          NaN   \n",
       "3                                          NaN   \n",
       "4                                          NaN   \n",
       "\n",
       "   All causes, by age (years), >=65 All causes, by age (years), >=65, flag  \\\n",
       "0                             426.0                                    NaN   \n",
       "1                             563.0                                    NaN   \n",
       "2                            1611.0                                    NaN   \n",
       "3                             432.0                                    NaN   \n",
       "4                             893.0                                    NaN   \n",
       "\n",
       "   All causes, by age (years), 45-64 All causes, by age (years), 45-64, flag  \\\n",
       "0                              125.0                                     NaN   \n",
       "1                              181.0                                     NaN   \n",
       "2                              594.0                                     NaN   \n",
       "3                              150.0                                     NaN   \n",
       "4                              343.0                                     NaN   \n",
       "\n",
       "   All causes, by age (years), 25-44 All causes, by age (years), 25-44, flag  \\\n",
       "0                               28.0                                     NaN   \n",
       "1                               32.0                                     NaN   \n",
       "2                              167.0                                     NaN   \n",
       "3                               31.0                                     NaN   \n",
       "4                               92.0                                     NaN   \n",
       "\n",
       "   All causes, by age (years), 1-24 All causes, by age (years), 1-24, flag  \\\n",
       "0                              12.0                                    NaN   \n",
       "1                              13.0                                    NaN   \n",
       "2                              62.0                                    NaN   \n",
       "3                               9.0                                    NaN   \n",
       "4                              32.0                                    NaN   \n",
       "\n",
       "   All causes, by age (years), LT 1 All causes, by age (years), LT 1, flag  \\\n",
       "0                               9.0                                    NaN   \n",
       "1                              18.0                                    NaN   \n",
       "2                              34.0                                    NaN   \n",
       "3                              11.0                                    NaN   \n",
       "4                              41.0                                    NaN   \n",
       "\n",
       "   P&I Total P&I Total, flag Location 1  Location 2  \n",
       "0       47.0             NaN        NaN         NaN  \n",
       "1       32.0             NaN        NaN         NaN  \n",
       "2      159.0             NaN        NaN         NaN  \n",
       "3       37.0             NaN        NaN         NaN  \n",
       "4       88.0             NaN        NaN         NaN  "
      ]
     },
     "execution_count": 45,
     "metadata": {},
     "output_type": "execute_result"
    }
   ],
   "source": [
    "data.head()"
   ]
  },
  {
   "cell_type": "code",
   "execution_count": 46,
   "metadata": {},
   "outputs": [
    {
     "data": {
      "text/plain": [
       "(5148, 19)"
      ]
     },
     "execution_count": 46,
     "metadata": {},
     "output_type": "execute_result"
    }
   ],
   "source": [
    "data.shape"
   ]
  },
  {
   "cell_type": "code",
   "execution_count": 47,
   "metadata": {},
   "outputs": [
    {
     "data": {
      "text/plain": [
       "count    5148.0\n",
       "mean     2016.0\n",
       "std         0.0\n",
       "min      2016.0\n",
       "25%      2016.0\n",
       "50%      2016.0\n",
       "75%      2016.0\n",
       "max      2016.0\n",
       "Name: MMWR YEAR, dtype: float64"
      ]
     },
     "execution_count": 47,
     "metadata": {},
     "output_type": "execute_result"
    }
   ],
   "source": [
    "data['MMWR YEAR'].describe()"
   ]
  },
  {
   "cell_type": "code",
   "execution_count": 48,
   "metadata": {},
   "outputs": [
    {
     "name": "stdout",
     "output_type": "stream",
     "text": [
      "count    5148.000000\n",
      "mean       20.000000\n",
      "std        11.255722\n",
      "min         1.000000\n",
      "25%        10.000000\n",
      "50%        20.000000\n",
      "75%        30.000000\n",
      "max        39.000000\n",
      "Name: MMWR WEEK, dtype: float64\n",
      "39\n"
     ]
    }
   ],
   "source": [
    "print(data['MMWR WEEK'].describe())\n",
    "print(data['MMWR WEEK'].nunique())"
   ]
  },
  {
   "cell_type": "code",
   "execution_count": 49,
   "metadata": {},
   "outputs": [
    {
     "name": "stdout",
     "output_type": "stream",
     "text": [
      "count             5148\n",
      "unique             134\n",
      "top       San Jose, CA\n",
      "freq                39\n",
      "Name: Reporting Area, dtype: object\n",
      "134\n"
     ]
    }
   ],
   "source": [
    "print(data['Reporting Area'].describe())\n",
    "print(data['Reporting Area'].nunique())"
   ]
  },
  {
   "cell_type": "code",
   "execution_count": 50,
   "metadata": {},
   "outputs": [
    {
     "data": {
      "text/html": [
       "<div>\n",
       "<style scoped>\n",
       "    .dataframe tbody tr th:only-of-type {\n",
       "        vertical-align: middle;\n",
       "    }\n",
       "\n",
       "    .dataframe tbody tr th {\n",
       "        vertical-align: top;\n",
       "    }\n",
       "\n",
       "    .dataframe thead th {\n",
       "        text-align: right;\n",
       "    }\n",
       "</style>\n",
       "<table border=\"1\" class=\"dataframe\">\n",
       "  <thead>\n",
       "    <tr style=\"text-align: right;\">\n",
       "      <th></th>\n",
       "      <th>Reporting Area</th>\n",
       "      <th>MMWR YEAR</th>\n",
       "      <th>MMWR WEEK</th>\n",
       "      <th>All causes, by age (years), All Ages**</th>\n",
       "      <th>All causes, by age (years), All Ages**, flag</th>\n",
       "      <th>All causes, by age (years), &gt;=65</th>\n",
       "      <th>All causes, by age (years), &gt;=65, flag</th>\n",
       "      <th>All causes, by age (years), 45-64</th>\n",
       "      <th>All causes, by age (years), 45-64, flag</th>\n",
       "      <th>All causes, by age (years), 25-44</th>\n",
       "      <th>All causes, by age (years), 25-44, flag</th>\n",
       "      <th>All causes, by age (years), 1-24</th>\n",
       "      <th>All causes, by age (years), 1-24, flag</th>\n",
       "      <th>All causes, by age (years), LT 1</th>\n",
       "      <th>All causes, by age (years), LT 1, flag</th>\n",
       "      <th>P&amp;I Total</th>\n",
       "      <th>P&amp;I Total, flag</th>\n",
       "      <th>Location 1</th>\n",
       "      <th>Location 2</th>\n",
       "    </tr>\n",
       "  </thead>\n",
       "  <tbody>\n",
       "    <tr>\n",
       "      <th>0</th>\n",
       "      <td>New England</td>\n",
       "      <td>2016</td>\n",
       "      <td>1</td>\n",
       "      <td>600.0</td>\n",
       "      <td>NaN</td>\n",
       "      <td>426.0</td>\n",
       "      <td>NaN</td>\n",
       "      <td>125.0</td>\n",
       "      <td>NaN</td>\n",
       "      <td>28.0</td>\n",
       "      <td>NaN</td>\n",
       "      <td>12.0</td>\n",
       "      <td>NaN</td>\n",
       "      <td>9.0</td>\n",
       "      <td>NaN</td>\n",
       "      <td>47.0</td>\n",
       "      <td>NaN</td>\n",
       "      <td>NaN</td>\n",
       "      <td>NaN</td>\n",
       "    </tr>\n",
       "    <tr>\n",
       "      <th>1</th>\n",
       "      <td>Mid. Atlantic</td>\n",
       "      <td>2016</td>\n",
       "      <td>1</td>\n",
       "      <td>807.0</td>\n",
       "      <td>NaN</td>\n",
       "      <td>563.0</td>\n",
       "      <td>NaN</td>\n",
       "      <td>181.0</td>\n",
       "      <td>NaN</td>\n",
       "      <td>32.0</td>\n",
       "      <td>NaN</td>\n",
       "      <td>13.0</td>\n",
       "      <td>NaN</td>\n",
       "      <td>18.0</td>\n",
       "      <td>NaN</td>\n",
       "      <td>32.0</td>\n",
       "      <td>NaN</td>\n",
       "      <td>NaN</td>\n",
       "      <td>NaN</td>\n",
       "    </tr>\n",
       "    <tr>\n",
       "      <th>2</th>\n",
       "      <td>E.N. Central</td>\n",
       "      <td>2016</td>\n",
       "      <td>1</td>\n",
       "      <td>2468.0</td>\n",
       "      <td>NaN</td>\n",
       "      <td>1611.0</td>\n",
       "      <td>NaN</td>\n",
       "      <td>594.0</td>\n",
       "      <td>NaN</td>\n",
       "      <td>167.0</td>\n",
       "      <td>NaN</td>\n",
       "      <td>62.0</td>\n",
       "      <td>NaN</td>\n",
       "      <td>34.0</td>\n",
       "      <td>NaN</td>\n",
       "      <td>159.0</td>\n",
       "      <td>NaN</td>\n",
       "      <td>NaN</td>\n",
       "      <td>NaN</td>\n",
       "    </tr>\n",
       "    <tr>\n",
       "      <th>3</th>\n",
       "      <td>W.N. Central</td>\n",
       "      <td>2016</td>\n",
       "      <td>1</td>\n",
       "      <td>634.0</td>\n",
       "      <td>NaN</td>\n",
       "      <td>432.0</td>\n",
       "      <td>NaN</td>\n",
       "      <td>150.0</td>\n",
       "      <td>NaN</td>\n",
       "      <td>31.0</td>\n",
       "      <td>NaN</td>\n",
       "      <td>9.0</td>\n",
       "      <td>NaN</td>\n",
       "      <td>11.0</td>\n",
       "      <td>NaN</td>\n",
       "      <td>37.0</td>\n",
       "      <td>NaN</td>\n",
       "      <td>NaN</td>\n",
       "      <td>NaN</td>\n",
       "    </tr>\n",
       "    <tr>\n",
       "      <th>4</th>\n",
       "      <td>S. Atlantic</td>\n",
       "      <td>2016</td>\n",
       "      <td>1</td>\n",
       "      <td>1402.0</td>\n",
       "      <td>NaN</td>\n",
       "      <td>893.0</td>\n",
       "      <td>NaN</td>\n",
       "      <td>343.0</td>\n",
       "      <td>NaN</td>\n",
       "      <td>92.0</td>\n",
       "      <td>NaN</td>\n",
       "      <td>32.0</td>\n",
       "      <td>NaN</td>\n",
       "      <td>41.0</td>\n",
       "      <td>NaN</td>\n",
       "      <td>88.0</td>\n",
       "      <td>NaN</td>\n",
       "      <td>NaN</td>\n",
       "      <td>NaN</td>\n",
       "    </tr>\n",
       "  </tbody>\n",
       "</table>\n",
       "</div>"
      ],
      "text/plain": [
       "  Reporting Area  MMWR YEAR  MMWR WEEK  \\\n",
       "0    New England       2016          1   \n",
       "1  Mid. Atlantic       2016          1   \n",
       "2   E.N. Central       2016          1   \n",
       "3   W.N. Central       2016          1   \n",
       "4    S. Atlantic       2016          1   \n",
       "\n",
       "   All causes, by age (years), All Ages**  \\\n",
       "0                                   600.0   \n",
       "1                                   807.0   \n",
       "2                                  2468.0   \n",
       "3                                   634.0   \n",
       "4                                  1402.0   \n",
       "\n",
       "  All causes, by age (years), All Ages**, flag  \\\n",
       "0                                          NaN   \n",
       "1                                          NaN   \n",
       "2                                          NaN   \n",
       "3                                          NaN   \n",
       "4                                          NaN   \n",
       "\n",
       "   All causes, by age (years), >=65 All causes, by age (years), >=65, flag  \\\n",
       "0                             426.0                                    NaN   \n",
       "1                             563.0                                    NaN   \n",
       "2                            1611.0                                    NaN   \n",
       "3                             432.0                                    NaN   \n",
       "4                             893.0                                    NaN   \n",
       "\n",
       "   All causes, by age (years), 45-64 All causes, by age (years), 45-64, flag  \\\n",
       "0                              125.0                                     NaN   \n",
       "1                              181.0                                     NaN   \n",
       "2                              594.0                                     NaN   \n",
       "3                              150.0                                     NaN   \n",
       "4                              343.0                                     NaN   \n",
       "\n",
       "   All causes, by age (years), 25-44 All causes, by age (years), 25-44, flag  \\\n",
       "0                               28.0                                     NaN   \n",
       "1                               32.0                                     NaN   \n",
       "2                              167.0                                     NaN   \n",
       "3                               31.0                                     NaN   \n",
       "4                               92.0                                     NaN   \n",
       "\n",
       "   All causes, by age (years), 1-24 All causes, by age (years), 1-24, flag  \\\n",
       "0                              12.0                                    NaN   \n",
       "1                              13.0                                    NaN   \n",
       "2                              62.0                                    NaN   \n",
       "3                               9.0                                    NaN   \n",
       "4                              32.0                                    NaN   \n",
       "\n",
       "   All causes, by age (years), LT 1 All causes, by age (years), LT 1, flag  \\\n",
       "0                               9.0                                    NaN   \n",
       "1                              18.0                                    NaN   \n",
       "2                              34.0                                    NaN   \n",
       "3                              11.0                                    NaN   \n",
       "4                              41.0                                    NaN   \n",
       "\n",
       "   P&I Total P&I Total, flag Location 1  Location 2  \n",
       "0       47.0             NaN        NaN         NaN  \n",
       "1       32.0             NaN        NaN         NaN  \n",
       "2      159.0             NaN        NaN         NaN  \n",
       "3       37.0             NaN        NaN         NaN  \n",
       "4       88.0             NaN        NaN         NaN  "
      ]
     },
     "execution_count": 50,
     "metadata": {},
     "output_type": "execute_result"
    }
   ],
   "source": [
    "data.head()"
   ]
  },
  {
   "cell_type": "code",
   "execution_count": 51,
   "metadata": {},
   "outputs": [
    {
     "data": {
      "text/html": [
       "<div>\n",
       "<style scoped>\n",
       "    .dataframe tbody tr th:only-of-type {\n",
       "        vertical-align: middle;\n",
       "    }\n",
       "\n",
       "    .dataframe tbody tr th {\n",
       "        vertical-align: top;\n",
       "    }\n",
       "\n",
       "    .dataframe thead th {\n",
       "        text-align: right;\n",
       "    }\n",
       "</style>\n",
       "<table border=\"1\" class=\"dataframe\">\n",
       "  <thead>\n",
       "    <tr style=\"text-align: right;\">\n",
       "      <th></th>\n",
       "      <th>Reporting Area</th>\n",
       "      <th>MMWR YEAR</th>\n",
       "      <th>MMWR WEEK</th>\n",
       "      <th>All causes, by age (years), All Ages**</th>\n",
       "      <th>All causes, by age (years), All Ages**, flag</th>\n",
       "      <th>All causes, by age (years), &gt;=65</th>\n",
       "      <th>All causes, by age (years), &gt;=65, flag</th>\n",
       "      <th>All causes, by age (years), 45-64</th>\n",
       "      <th>All causes, by age (years), 45-64, flag</th>\n",
       "      <th>All causes, by age (years), 25-44</th>\n",
       "      <th>All causes, by age (years), 25-44, flag</th>\n",
       "      <th>All causes, by age (years), 1-24</th>\n",
       "      <th>All causes, by age (years), 1-24, flag</th>\n",
       "      <th>All causes, by age (years), LT 1</th>\n",
       "      <th>All causes, by age (years), LT 1, flag</th>\n",
       "      <th>P&amp;I Total</th>\n",
       "      <th>P&amp;I Total, flag</th>\n",
       "      <th>Location 1</th>\n",
       "      <th>Location 2</th>\n",
       "    </tr>\n",
       "  </thead>\n",
       "  <tbody>\n",
       "    <tr>\n",
       "      <th>9</th>\n",
       "      <td>Total</td>\n",
       "      <td>2016</td>\n",
       "      <td>1</td>\n",
       "      <td>12789.0</td>\n",
       "      <td>NaN</td>\n",
       "      <td>8600.0</td>\n",
       "      <td>NaN</td>\n",
       "      <td>2948.0</td>\n",
       "      <td>NaN</td>\n",
       "      <td>797.0</td>\n",
       "      <td>NaN</td>\n",
       "      <td>242.0</td>\n",
       "      <td>NaN</td>\n",
       "      <td>200.0</td>\n",
       "      <td>NaN</td>\n",
       "      <td>814.0</td>\n",
       "      <td>NaN</td>\n",
       "      <td>NaN</td>\n",
       "      <td>NaN</td>\n",
       "    </tr>\n",
       "  </tbody>\n",
       "</table>\n",
       "</div>"
      ],
      "text/plain": [
       "  Reporting Area  MMWR YEAR  MMWR WEEK  \\\n",
       "9          Total       2016          1   \n",
       "\n",
       "   All causes, by age (years), All Ages**  \\\n",
       "9                                 12789.0   \n",
       "\n",
       "  All causes, by age (years), All Ages**, flag  \\\n",
       "9                                          NaN   \n",
       "\n",
       "   All causes, by age (years), >=65 All causes, by age (years), >=65, flag  \\\n",
       "9                            8600.0                                    NaN   \n",
       "\n",
       "   All causes, by age (years), 45-64 All causes, by age (years), 45-64, flag  \\\n",
       "9                             2948.0                                     NaN   \n",
       "\n",
       "   All causes, by age (years), 25-44 All causes, by age (years), 25-44, flag  \\\n",
       "9                              797.0                                     NaN   \n",
       "\n",
       "   All causes, by age (years), 1-24 All causes, by age (years), 1-24, flag  \\\n",
       "9                             242.0                                    NaN   \n",
       "\n",
       "   All causes, by age (years), LT 1 All causes, by age (years), LT 1, flag  \\\n",
       "9                             200.0                                    NaN   \n",
       "\n",
       "   P&I Total P&I Total, flag Location 1  Location 2  \n",
       "9      814.0             NaN        NaN         NaN  "
      ]
     },
     "execution_count": 51,
     "metadata": {},
     "output_type": "execute_result"
    }
   ],
   "source": [
    "data[data['Reporting Area']=='Total']"
   ]
  },
  {
   "cell_type": "code",
   "execution_count": 55,
   "metadata": {},
   "outputs": [
    {
     "name": "stdout",
     "output_type": "stream",
     "text": [
      "(38, 19)\n"
     ]
    },
    {
     "data": {
      "text/html": [
       "<div>\n",
       "<style scoped>\n",
       "    .dataframe tbody tr th:only-of-type {\n",
       "        vertical-align: middle;\n",
       "    }\n",
       "\n",
       "    .dataframe tbody tr th {\n",
       "        vertical-align: top;\n",
       "    }\n",
       "\n",
       "    .dataframe thead th {\n",
       "        text-align: right;\n",
       "    }\n",
       "</style>\n",
       "<table border=\"1\" class=\"dataframe\">\n",
       "  <thead>\n",
       "    <tr style=\"text-align: right;\">\n",
       "      <th></th>\n",
       "      <th>Reporting Area</th>\n",
       "      <th>MMWR YEAR</th>\n",
       "      <th>MMWR WEEK</th>\n",
       "      <th>All causes, by age (years), All Ages**</th>\n",
       "      <th>All causes, by age (years), All Ages**, flag</th>\n",
       "      <th>All causes, by age (years), &gt;=65</th>\n",
       "      <th>All causes, by age (years), &gt;=65, flag</th>\n",
       "      <th>All causes, by age (years), 45-64</th>\n",
       "      <th>All causes, by age (years), 45-64, flag</th>\n",
       "      <th>All causes, by age (years), 25-44</th>\n",
       "      <th>All causes, by age (years), 25-44, flag</th>\n",
       "      <th>All causes, by age (years), 1-24</th>\n",
       "      <th>All causes, by age (years), 1-24, flag</th>\n",
       "      <th>All causes, by age (years), LT 1</th>\n",
       "      <th>All causes, by age (years), LT 1, flag</th>\n",
       "      <th>P&amp;I Total</th>\n",
       "      <th>P&amp;I Total, flag</th>\n",
       "      <th>Location 1</th>\n",
       "      <th>Location 2</th>\n",
       "    </tr>\n",
       "  </thead>\n",
       "  <tbody>\n",
       "    <tr>\n",
       "      <th>141</th>\n",
       "      <td>Total_</td>\n",
       "      <td>2016</td>\n",
       "      <td>2</td>\n",
       "      <td>11708.0</td>\n",
       "      <td>NaN</td>\n",
       "      <td>8026.0</td>\n",
       "      <td>NaN</td>\n",
       "      <td>2656.0</td>\n",
       "      <td>NaN</td>\n",
       "      <td>645.0</td>\n",
       "      <td>NaN</td>\n",
       "      <td>191.0</td>\n",
       "      <td>NaN</td>\n",
       "      <td>186.0</td>\n",
       "      <td>NaN</td>\n",
       "      <td>885.0</td>\n",
       "      <td>NaN</td>\n",
       "      <td>NaN</td>\n",
       "      <td>NaN</td>\n",
       "    </tr>\n",
       "    <tr>\n",
       "      <th>273</th>\n",
       "      <td>Total_</td>\n",
       "      <td>2016</td>\n",
       "      <td>3</td>\n",
       "      <td>12150.0</td>\n",
       "      <td>NaN</td>\n",
       "      <td>8394.0</td>\n",
       "      <td>NaN</td>\n",
       "      <td>2706.0</td>\n",
       "      <td>NaN</td>\n",
       "      <td>651.0</td>\n",
       "      <td>NaN</td>\n",
       "      <td>213.0</td>\n",
       "      <td>NaN</td>\n",
       "      <td>165.0</td>\n",
       "      <td>NaN</td>\n",
       "      <td>826.0</td>\n",
       "      <td>NaN</td>\n",
       "      <td>NaN</td>\n",
       "      <td>NaN</td>\n",
       "    </tr>\n",
       "    <tr>\n",
       "      <th>405</th>\n",
       "      <td>Total_</td>\n",
       "      <td>2016</td>\n",
       "      <td>4</td>\n",
       "      <td>12546.0</td>\n",
       "      <td>NaN</td>\n",
       "      <td>8503.0</td>\n",
       "      <td>NaN</td>\n",
       "      <td>2868.0</td>\n",
       "      <td>NaN</td>\n",
       "      <td>711.0</td>\n",
       "      <td>NaN</td>\n",
       "      <td>242.0</td>\n",
       "      <td>NaN</td>\n",
       "      <td>221.0</td>\n",
       "      <td>NaN</td>\n",
       "      <td>850.0</td>\n",
       "      <td>NaN</td>\n",
       "      <td>NaN</td>\n",
       "      <td>NaN</td>\n",
       "    </tr>\n",
       "    <tr>\n",
       "      <th>537</th>\n",
       "      <td>Total_</td>\n",
       "      <td>2016</td>\n",
       "      <td>5</td>\n",
       "      <td>12880.0</td>\n",
       "      <td>NaN</td>\n",
       "      <td>8816.0</td>\n",
       "      <td>NaN</td>\n",
       "      <td>2878.0</td>\n",
       "      <td>NaN</td>\n",
       "      <td>740.0</td>\n",
       "      <td>NaN</td>\n",
       "      <td>260.0</td>\n",
       "      <td>NaN</td>\n",
       "      <td>185.0</td>\n",
       "      <td>NaN</td>\n",
       "      <td>804.0</td>\n",
       "      <td>NaN</td>\n",
       "      <td>NaN</td>\n",
       "      <td>NaN</td>\n",
       "    </tr>\n",
       "    <tr>\n",
       "      <th>669</th>\n",
       "      <td>Total_</td>\n",
       "      <td>2016</td>\n",
       "      <td>6</td>\n",
       "      <td>12575.0</td>\n",
       "      <td>NaN</td>\n",
       "      <td>8463.0</td>\n",
       "      <td>NaN</td>\n",
       "      <td>2885.0</td>\n",
       "      <td>NaN</td>\n",
       "      <td>771.0</td>\n",
       "      <td>NaN</td>\n",
       "      <td>256.0</td>\n",
       "      <td>NaN</td>\n",
       "      <td>197.0</td>\n",
       "      <td>NaN</td>\n",
       "      <td>868.0</td>\n",
       "      <td>NaN</td>\n",
       "      <td>NaN</td>\n",
       "      <td>NaN</td>\n",
       "    </tr>\n",
       "  </tbody>\n",
       "</table>\n",
       "</div>"
      ],
      "text/plain": [
       "    Reporting Area  MMWR YEAR  MMWR WEEK  \\\n",
       "141         Total_       2016          2   \n",
       "273         Total_       2016          3   \n",
       "405         Total_       2016          4   \n",
       "537         Total_       2016          5   \n",
       "669         Total_       2016          6   \n",
       "\n",
       "     All causes, by age (years), All Ages**  \\\n",
       "141                                 11708.0   \n",
       "273                                 12150.0   \n",
       "405                                 12546.0   \n",
       "537                                 12880.0   \n",
       "669                                 12575.0   \n",
       "\n",
       "    All causes, by age (years), All Ages**, flag  \\\n",
       "141                                          NaN   \n",
       "273                                          NaN   \n",
       "405                                          NaN   \n",
       "537                                          NaN   \n",
       "669                                          NaN   \n",
       "\n",
       "     All causes, by age (years), >=65 All causes, by age (years), >=65, flag  \\\n",
       "141                            8026.0                                    NaN   \n",
       "273                            8394.0                                    NaN   \n",
       "405                            8503.0                                    NaN   \n",
       "537                            8816.0                                    NaN   \n",
       "669                            8463.0                                    NaN   \n",
       "\n",
       "     All causes, by age (years), 45-64  \\\n",
       "141                             2656.0   \n",
       "273                             2706.0   \n",
       "405                             2868.0   \n",
       "537                             2878.0   \n",
       "669                             2885.0   \n",
       "\n",
       "    All causes, by age (years), 45-64, flag  \\\n",
       "141                                     NaN   \n",
       "273                                     NaN   \n",
       "405                                     NaN   \n",
       "537                                     NaN   \n",
       "669                                     NaN   \n",
       "\n",
       "     All causes, by age (years), 25-44  \\\n",
       "141                              645.0   \n",
       "273                              651.0   \n",
       "405                              711.0   \n",
       "537                              740.0   \n",
       "669                              771.0   \n",
       "\n",
       "    All causes, by age (years), 25-44, flag  All causes, by age (years), 1-24  \\\n",
       "141                                     NaN                             191.0   \n",
       "273                                     NaN                             213.0   \n",
       "405                                     NaN                             242.0   \n",
       "537                                     NaN                             260.0   \n",
       "669                                     NaN                             256.0   \n",
       "\n",
       "    All causes, by age (years), 1-24, flag  All causes, by age (years), LT 1  \\\n",
       "141                                    NaN                             186.0   \n",
       "273                                    NaN                             165.0   \n",
       "405                                    NaN                             221.0   \n",
       "537                                    NaN                             185.0   \n",
       "669                                    NaN                             197.0   \n",
       "\n",
       "    All causes, by age (years), LT 1, flag  P&I Total P&I Total, flag  \\\n",
       "141                                    NaN      885.0             NaN   \n",
       "273                                    NaN      826.0             NaN   \n",
       "405                                    NaN      850.0             NaN   \n",
       "537                                    NaN      804.0             NaN   \n",
       "669                                    NaN      868.0             NaN   \n",
       "\n",
       "    Location 1  Location 2  \n",
       "141        NaN         NaN  \n",
       "273        NaN         NaN  \n",
       "405        NaN         NaN  \n",
       "537        NaN         NaN  \n",
       "669        NaN         NaN  "
      ]
     },
     "execution_count": 55,
     "metadata": {},
     "output_type": "execute_result"
    }
   ],
   "source": [
    "print(data[data['Reporting Area']=='Total_'].shape)\n",
    "data[data['Reporting Area']=='Total_'].head()"
   ]
  },
  {
   "cell_type": "code",
   "execution_count": 56,
   "metadata": {},
   "outputs": [],
   "source": [
    "data = data[data['Reporting Area']!='Total']\n",
    "data = data[data['Reporting Area']!='Total_']"
   ]
  },
  {
   "cell_type": "code",
   "execution_count": 57,
   "metadata": {},
   "outputs": [
    {
     "data": {
      "text/plain": [
       "<matplotlib.axes._subplots.AxesSubplot at 0x7f3b9f528f98>"
      ]
     },
     "execution_count": 57,
     "metadata": {},
     "output_type": "execute_result"
    },
    {
     "data": {
      "image/png": "[encoded data removed]",
      "text/plain": [
       "<matplotlib.figure.Figure at 0x7f3b9f86eda0>"
      ]
     },
     "metadata": {},
     "output_type": "display_data"
    }
   ],
   "source": [
    "deathsVStime = data.groupby('MMWR WEEK')['All causes, by age (years), All Ages**'].mean()\n",
    "deathsVStime.plot()"
   ]
  },
  {
   "cell_type": "code",
   "execution_count": 58,
   "metadata": {},
   "outputs": [
    {
     "data": {
      "text/plain": [
       "<matplotlib.axes._subplots.AxesSubplot at 0x7f3b9f528c88>"
      ]
     },
     "execution_count": 58,
     "metadata": {},
     "output_type": "execute_result"
    },
    {
     "data": {
      "image/png": "[encoded data removed]",
      "text/plain": [
       "<matplotlib.figure.Figure at 0x7f3b9f4fc518>"
      ]
     },
     "metadata": {},
     "output_type": "display_data"
    }
   ],
   "source": [
    "PIdeaths = data.groupby('MMWR WEEK')['P&I Total'].mean()\n",
    "PIdeaths.plot()"
   ]
  },
  {
   "cell_type": "code",
   "execution_count": 59,
   "metadata": {},
   "outputs": [
    {
     "data": {
      "text/plain": [
       "<matplotlib.axes._subplots.AxesSubplot at 0x7f3b9f881a90>"
      ]
     },
     "execution_count": 59,
     "metadata": {},
     "output_type": "execute_result"
    },
    {
     "data": {
      "image/png": "[encoded data removed]",
      "text/plain": [
       "<matplotlib.figure.Figure at 0x7f3b9f821c18>"
      ]
     },
     "metadata": {},
     "output_type": "display_data"
    }
   ],
   "source": [
    "(deathsVStime - PIdeaths).plot()"
   ]
  },
  {
   "cell_type": "code",
   "execution_count": 60,
   "metadata": {},
   "outputs": [
    {
     "data": {
      "text/plain": [
       "<matplotlib.axes._subplots.AxesSubplot at 0x7f3b9f7ef630>"
      ]
     },
     "execution_count": 60,
     "metadata": {},
     "output_type": "execute_result"
    },
    {
     "data": {
      "image/png": "[encoded data removed]",
      "text/plain": [
       "<matplotlib.figure.Figure at 0x7f3b9f79b828>"
      ]
     },
     "metadata": {},
     "output_type": "display_data"
    }
   ],
   "source": [
    "data.groupby('MMWR WEEK')['All causes, by age (years), >=65'].mean().plot()\n",
    "#data.groupby('MMWR WEEK')['All causes, by age (years), 45-64'].mean().plot()"
   ]
  },
  {
   "cell_type": "code",
   "execution_count": 61,
   "metadata": {},
   "outputs": [
    {
     "data": {
      "text/plain": [
       "<matplotlib.axes._subplots.AxesSubplot at 0x7f3b9fa91be0>"
      ]
     },
     "execution_count": 61,
     "metadata": {},
     "output_type": "execute_result"
    },
    {
     "data": {
      "image/png": "[encoded data removed]",
      "text/plain": [
       "<matplotlib.figure.Figure at 0x7f3b9fd8e080>"
      ]
     },
     "metadata": {},
     "output_type": "display_data"
    }
   ],
   "source": [
    "data.groupby('MMWR WEEK')['All causes, by age (years), 45-64'].mean().plot()\n",
    "data.groupby('MMWR WEEK')['All causes, by age (years), 25-44'].mean().plot()\n",
    "data.groupby('MMWR WEEK')['All causes, by age (years), 1-24'].mean().plot()\n",
    "data.groupby('MMWR WEEK')['All causes, by age (years), LT 1'].mean().plot()"
   ]
  },
  {
   "cell_type": "code",
   "execution_count": 62,
   "metadata": {},
   "outputs": [
    {
     "data": {
      "text/plain": [
       "<matplotlib.axes._subplots.AxesSubplot at 0x7f3b9f6fba58>"
      ]
     },
     "execution_count": 62,
     "metadata": {},
     "output_type": "execute_result"
    },
    {
     "data": {
      "image/png": "[encoded data removed]",
      "text/plain": [
       "<matplotlib.figure.Figure at 0x7f3b9f8812b0>"
      ]
     },
     "metadata": {},
     "output_type": "display_data"
    }
   ],
   "source": [
    "older_deaths = data.groupby('MMWR WEEK')['All causes, by age (years), >=65'].mean()\n",
    "(deathsVStime - older_deaths).plot()"
   ]
  },
  {
   "cell_type": "code",
   "execution_count": 64,
   "metadata": {},
   "outputs": [
    {
     "data": {
      "text/plain": [
       "array([131])"
      ]
     },
     "execution_count": 64,
     "metadata": {},
     "output_type": "execute_result"
    }
   ],
   "source": [
    "data.groupby('MMWR WEEK').count()['Reporting Area'].unique()"
   ]
  },
  {
   "cell_type": "code",
   "execution_count": 65,
   "metadata": {},
   "outputs": [
    {
     "data": {
      "text/plain": [
       "Reporting Area\n",
       "E.N. Central         2123.923077\n",
       "Pacific              1751.025641\n",
       "Mid. Atlantic        1663.230769\n",
       "W.S. Central         1572.461538\n",
       "S. Atlantic          1158.717949\n",
       "Mountain             1146.333333\n",
       "New York City, NY    1013.736842\n",
       "E.S. Central          998.538462\n",
       "W.N. Central          612.179487\n",
       "New England           525.974359\n",
       "Houston, TX           385.243243\n",
       "Las Vegas, NV         334.947368\n",
       "Los Angeles, CA       300.230769\n",
       "San Antonio, TX       290.382353\n",
       "Chicago, IL           284.351351\n",
       "Cleveland, OH         280.256410\n",
       "Columbus, OH          249.729730\n",
       "Sacramento, CA        227.435897\n",
       "Dallas, TX            223.794872\n",
       "San Jose, CA          210.512821\n",
       "Phoenix, AZ           203.789474\n",
       "Indianapolis, IN      200.846154\n",
       "Memphis, TN           194.200000\n",
       "Birmingham, AL        185.769231\n",
       "Tucson, AZ            178.583333\n",
       "Nashville, TN         173.589744\n",
       "San Diego, CA         171.447368\n",
       "Baltimore, MD         164.184211\n",
       "Jacksonville, FL      163.794872\n",
       "Atlanta, GA           161.210526\n",
       "                        ...     \n",
       "Bridgeport, CT         31.153846\n",
       "Allentown, PA          30.076923\n",
       "Kansas City, KS        29.410256\n",
       "Denver, CO             29.378378\n",
       "Waterbury, CT          28.487179\n",
       "Pasadena, CA           28.051282\n",
       "Fall River, MA         26.051282\n",
       "Scranton, PA           24.846154\n",
       "New Bedford, MA        24.051282\n",
       "Camden, NJ             23.157895\n",
       "Lowell, MA             21.897436\n",
       "Schenectady, NY        20.810811\n",
       "Yonkers, NY            17.526316\n",
       "Jersey City, NJ        17.137931\n",
       "Pueblo, CO             16.923077\n",
       "Utica, NY              16.025641\n",
       "Elizabeth, NJ          15.384615\n",
       "Paterson, NJ           15.256410\n",
       "Trenton, NJ            14.444444\n",
       "Cambridge, MA          13.820513\n",
       "Wilmington, DE         12.512821\n",
       "Gary, IN               12.235294\n",
       "Berkeley, CA           11.891892\n",
       "Lynn, MA                9.692308\n",
       "Somerville, MA          3.250000\n",
       "Seattle, WA             1.400000\n",
       "Des Moines, IA               NaN\n",
       "Fort Worth, TX               NaN\n",
       "Philadelphia, PA             NaN\n",
       "Pittsburgh, PA_              NaN\n",
       "Name: All causes, by age (years), All Ages**, Length: 132, dtype: float64"
      ]
     },
     "execution_count": 65,
     "metadata": {},
     "output_type": "execute_result"
    }
   ],
   "source": [
    "data.groupby('Reporting Area')['All causes, by age (years), All Ages**'].mean().sort_values(ascending=False)"
   ]
  },
  {
   "cell_type": "code",
   "execution_count": 66,
   "metadata": {},
   "outputs": [],
   "source": [
    "age_columns = ['All causes, by age (years), >=65',\n",
    "           'All causes, by age (years), 45-64',\n",
    "           'All causes, by age (years), 25-44',\n",
    "          'All causes, by age (years), 1-24',\n",
    "          'All causes, by age (years), LT 1']\n",
    "data['new_total'] = 0\n",
    "for column in age_columns:\n",
    "    data['new_total'] += data[column]\n"
   ]
  },
  {
   "cell_type": "code",
   "execution_count": 67,
   "metadata": {},
   "outputs": [
    {
     "data": {
      "text/plain": [
       "<matplotlib.axes._subplots.AxesSubplot at 0x7f3b9fa99320>"
      ]
     },
     "execution_count": 67,
     "metadata": {},
     "output_type": "execute_result"
    },
    {
     "data": {
      "image/png": "[encoded data removed]",
      "text/plain": [
       "<matplotlib.figure.Figure at 0x7f3b9f536320>"
      ]
     },
     "metadata": {},
     "output_type": "display_data"
    }
   ],
   "source": [
    "(data['new_total']-data['All causes, by age (years), All Ages**']).hist()"
   ]
  },
  {
   "cell_type": "code",
   "execution_count": 68,
   "metadata": {},
   "outputs": [
    {
     "data": {
      "text/html": [
       "<div>\n",
       "<style scoped>\n",
       "    .dataframe tbody tr th:only-of-type {\n",
       "        vertical-align: middle;\n",
       "    }\n",
       "\n",
       "    .dataframe tbody tr th {\n",
       "        vertical-align: top;\n",
       "    }\n",
       "\n",
       "    .dataframe thead th {\n",
       "        text-align: right;\n",
       "    }\n",
       "</style>\n",
       "<table border=\"1\" class=\"dataframe\">\n",
       "  <thead>\n",
       "    <tr style=\"text-align: right;\">\n",
       "      <th></th>\n",
       "      <th>Reporting Area</th>\n",
       "      <th>MMWR YEAR</th>\n",
       "      <th>MMWR WEEK</th>\n",
       "      <th>All causes, by age (years), All Ages**</th>\n",
       "      <th>All causes, by age (years), All Ages**, flag</th>\n",
       "      <th>All causes, by age (years), &gt;=65</th>\n",
       "      <th>All causes, by age (years), &gt;=65, flag</th>\n",
       "      <th>All causes, by age (years), 45-64</th>\n",
       "      <th>All causes, by age (years), 45-64, flag</th>\n",
       "      <th>All causes, by age (years), 25-44</th>\n",
       "      <th>All causes, by age (years), 25-44, flag</th>\n",
       "      <th>All causes, by age (years), 1-24</th>\n",
       "      <th>All causes, by age (years), 1-24, flag</th>\n",
       "      <th>All causes, by age (years), LT 1</th>\n",
       "      <th>All causes, by age (years), LT 1, flag</th>\n",
       "      <th>P&amp;I Total</th>\n",
       "      <th>P&amp;I Total, flag</th>\n",
       "      <th>Location 1</th>\n",
       "      <th>Location 2</th>\n",
       "      <th>new_total</th>\n",
       "    </tr>\n",
       "  </thead>\n",
       "  <tbody>\n",
       "    <tr>\n",
       "      <th>0</th>\n",
       "      <td>New England</td>\n",
       "      <td>2016</td>\n",
       "      <td>1</td>\n",
       "      <td>600.0</td>\n",
       "      <td>NaN</td>\n",
       "      <td>426.0</td>\n",
       "      <td>NaN</td>\n",
       "      <td>125.0</td>\n",
       "      <td>NaN</td>\n",
       "      <td>28.0</td>\n",
       "      <td>NaN</td>\n",
       "      <td>12.0</td>\n",
       "      <td>NaN</td>\n",
       "      <td>9.0</td>\n",
       "      <td>NaN</td>\n",
       "      <td>47.0</td>\n",
       "      <td>NaN</td>\n",
       "      <td>NaN</td>\n",
       "      <td>NaN</td>\n",
       "      <td>600.0</td>\n",
       "    </tr>\n",
       "    <tr>\n",
       "      <th>1</th>\n",
       "      <td>Mid. Atlantic</td>\n",
       "      <td>2016</td>\n",
       "      <td>1</td>\n",
       "      <td>807.0</td>\n",
       "      <td>NaN</td>\n",
       "      <td>563.0</td>\n",
       "      <td>NaN</td>\n",
       "      <td>181.0</td>\n",
       "      <td>NaN</td>\n",
       "      <td>32.0</td>\n",
       "      <td>NaN</td>\n",
       "      <td>13.0</td>\n",
       "      <td>NaN</td>\n",
       "      <td>18.0</td>\n",
       "      <td>NaN</td>\n",
       "      <td>32.0</td>\n",
       "      <td>NaN</td>\n",
       "      <td>NaN</td>\n",
       "      <td>NaN</td>\n",
       "      <td>807.0</td>\n",
       "    </tr>\n",
       "    <tr>\n",
       "      <th>2</th>\n",
       "      <td>E.N. Central</td>\n",
       "      <td>2016</td>\n",
       "      <td>1</td>\n",
       "      <td>2468.0</td>\n",
       "      <td>NaN</td>\n",
       "      <td>1611.0</td>\n",
       "      <td>NaN</td>\n",
       "      <td>594.0</td>\n",
       "      <td>NaN</td>\n",
       "      <td>167.0</td>\n",
       "      <td>NaN</td>\n",
       "      <td>62.0</td>\n",
       "      <td>NaN</td>\n",
       "      <td>34.0</td>\n",
       "      <td>NaN</td>\n",
       "      <td>159.0</td>\n",
       "      <td>NaN</td>\n",
       "      <td>NaN</td>\n",
       "      <td>NaN</td>\n",
       "      <td>2468.0</td>\n",
       "    </tr>\n",
       "    <tr>\n",
       "      <th>3</th>\n",
       "      <td>W.N. Central</td>\n",
       "      <td>2016</td>\n",
       "      <td>1</td>\n",
       "      <td>634.0</td>\n",
       "      <td>NaN</td>\n",
       "      <td>432.0</td>\n",
       "      <td>NaN</td>\n",
       "      <td>150.0</td>\n",
       "      <td>NaN</td>\n",
       "      <td>31.0</td>\n",
       "      <td>NaN</td>\n",
       "      <td>9.0</td>\n",
       "      <td>NaN</td>\n",
       "      <td>11.0</td>\n",
       "      <td>NaN</td>\n",
       "      <td>37.0</td>\n",
       "      <td>NaN</td>\n",
       "      <td>NaN</td>\n",
       "      <td>NaN</td>\n",
       "      <td>633.0</td>\n",
       "    </tr>\n",
       "    <tr>\n",
       "      <th>4</th>\n",
       "      <td>S. Atlantic</td>\n",
       "      <td>2016</td>\n",
       "      <td>1</td>\n",
       "      <td>1402.0</td>\n",
       "      <td>NaN</td>\n",
       "      <td>893.0</td>\n",
       "      <td>NaN</td>\n",
       "      <td>343.0</td>\n",
       "      <td>NaN</td>\n",
       "      <td>92.0</td>\n",
       "      <td>NaN</td>\n",
       "      <td>32.0</td>\n",
       "      <td>NaN</td>\n",
       "      <td>41.0</td>\n",
       "      <td>NaN</td>\n",
       "      <td>88.0</td>\n",
       "      <td>NaN</td>\n",
       "      <td>NaN</td>\n",
       "      <td>NaN</td>\n",
       "      <td>1401.0</td>\n",
       "    </tr>\n",
       "  </tbody>\n",
       "</table>\n",
       "</div>"
      ],
      "text/plain": [
       "  Reporting Area  MMWR YEAR  MMWR WEEK  \\\n",
       "0    New England       2016          1   \n",
       "1  Mid. Atlantic       2016          1   \n",
       "2   E.N. Central       2016          1   \n",
       "3   W.N. Central       2016          1   \n",
       "4    S. Atlantic       2016          1   \n",
       "\n",
       "   All causes, by age (years), All Ages**  \\\n",
       "0                                   600.0   \n",
       "1                                   807.0   \n",
       "2                                  2468.0   \n",
       "3                                   634.0   \n",
       "4                                  1402.0   \n",
       "\n",
       "  All causes, by age (years), All Ages**, flag  \\\n",
       "0                                          NaN   \n",
       "1                                          NaN   \n",
       "2                                          NaN   \n",
       "3                                          NaN   \n",
       "4                                          NaN   \n",
       "\n",
       "   All causes, by age (years), >=65 All causes, by age (years), >=65, flag  \\\n",
       "0                             426.0                                    NaN   \n",
       "1                             563.0                                    NaN   \n",
       "2                            1611.0                                    NaN   \n",
       "3                             432.0                                    NaN   \n",
       "4                             893.0                                    NaN   \n",
       "\n",
       "   All causes, by age (years), 45-64 All causes, by age (years), 45-64, flag  \\\n",
       "0                              125.0                                     NaN   \n",
       "1                              181.0                                     NaN   \n",
       "2                              594.0                                     NaN   \n",
       "3                              150.0                                     NaN   \n",
       "4                              343.0                                     NaN   \n",
       "\n",
       "   All causes, by age (years), 25-44 All causes, by age (years), 25-44, flag  \\\n",
       "0                               28.0                                     NaN   \n",
       "1                               32.0                                     NaN   \n",
       "2                              167.0                                     NaN   \n",
       "3                               31.0                                     NaN   \n",
       "4                               92.0                                     NaN   \n",
       "\n",
       "   All causes, by age (years), 1-24 All causes, by age (years), 1-24, flag  \\\n",
       "0                              12.0                                    NaN   \n",
       "1                              13.0                                    NaN   \n",
       "2                              62.0                                    NaN   \n",
       "3                               9.0                                    NaN   \n",
       "4                              32.0                                    NaN   \n",
       "\n",
       "   All causes, by age (years), LT 1 All causes, by age (years), LT 1, flag  \\\n",
       "0                               9.0                                    NaN   \n",
       "1                              18.0                                    NaN   \n",
       "2                              34.0                                    NaN   \n",
       "3                              11.0                                    NaN   \n",
       "4                              41.0                                    NaN   \n",
       "\n",
       "   P&I Total P&I Total, flag Location 1  Location 2  new_total  \n",
       "0       47.0             NaN        NaN         NaN      600.0  \n",
       "1       32.0             NaN        NaN         NaN      807.0  \n",
       "2      159.0             NaN        NaN         NaN     2468.0  \n",
       "3       37.0             NaN        NaN         NaN      633.0  \n",
       "4       88.0             NaN        NaN         NaN     1401.0  "
      ]
     },
     "execution_count": 68,
     "metadata": {},
     "output_type": "execute_result"
    }
   ],
   "source": [
    "data.head()"
   ]
  },
  {
   "cell_type": "code",
   "execution_count": 69,
   "metadata": {},
   "outputs": [
    {
     "data": {
      "text/plain": [
       "<matplotlib.axes._subplots.AxesSubplot at 0x7f3b9fab3f60>"
      ]
     },
     "execution_count": 69,
     "metadata": {},
     "output_type": "execute_result"
    },
    {
     "data": {
      "image/png": "[encoded data removed]",
      "text/plain": [
       "<matplotlib.figure.Figure at 0x7f3b9f6e9e48>"
      ]
     },
     "metadata": {},
     "output_type": "display_data"
    }
   ],
   "source": [
    "data.sum()[4:9].plot.bar()"
   ]
  },
  {
   "cell_type": "markdown",
   "metadata": {},
   "source": [
    "## HOW TO CONSTRUCT AN INTEREVENT INTERVAL HISTOGRAM\n",
    "\n",
    "# QUESTION 5:"
   ]
  },
  {
   "cell_type": "code",
   "execution_count": 44,
   "metadata": {},
   "outputs": [
    {
     "data": {
      "text/html": [
       "<div>\n",
       "<style scoped>\n",
       "    .dataframe tbody tr th:only-of-type {\n",
       "        vertical-align: middle;\n",
       "    }\n",
       "\n",
       "    .dataframe tbody tr th {\n",
       "        vertical-align: top;\n",
       "    }\n",
       "\n",
       "    .dataframe thead th {\n",
       "        text-align: right;\n",
       "    }\n",
       "</style>\n",
       "<table border=\"1\" class=\"dataframe\">\n",
       "  <thead>\n",
       "    <tr style=\"text-align: right;\">\n",
       "      <th></th>\n",
       "      <th>user_id</th>\n",
       "      <th>event_date</th>\n",
       "    </tr>\n",
       "  </thead>\n",
       "  <tbody>\n",
       "    <tr>\n",
       "      <th>0</th>\n",
       "      <td>0</td>\n",
       "      <td>2015-02-26 00:00:00</td>\n",
       "    </tr>\n",
       "    <tr>\n",
       "      <th>1</th>\n",
       "      <td>0</td>\n",
       "      <td>2015-03-10 00:00:00</td>\n",
       "    </tr>\n",
       "    <tr>\n",
       "      <th>2</th>\n",
       "      <td>0</td>\n",
       "      <td>2015-03-30 00:00:00</td>\n",
       "    </tr>\n",
       "    <tr>\n",
       "      <th>3</th>\n",
       "      <td>0</td>\n",
       "      <td>2015-02-15 00:00:00</td>\n",
       "    </tr>\n",
       "    <tr>\n",
       "      <th>4</th>\n",
       "      <td>0</td>\n",
       "      <td>2015-02-18 00:00:00</td>\n",
       "    </tr>\n",
       "  </tbody>\n",
       "</table>\n",
       "</div>"
      ],
      "text/plain": [
       "   user_id           event_date\n",
       "0        0  2015-02-26 00:00:00\n",
       "1        0  2015-03-10 00:00:00\n",
       "2        0  2015-03-30 00:00:00\n",
       "3        0  2015-02-15 00:00:00\n",
       "4        0  2015-02-18 00:00:00"
      ]
     },
     "execution_count": 44,
     "metadata": {},
     "output_type": "execute_result"
    }
   ],
   "source": [
    "events.head()"
   ]
  },
  {
   "cell_type": "code",
   "execution_count": 42,
   "metadata": {},
   "outputs": [
    {
     "data": {
      "text/html": [
       "<div>\n",
       "<style scoped>\n",
       "    .dataframe tbody tr th:only-of-type {\n",
       "        vertical-align: middle;\n",
       "    }\n",
       "\n",
       "    .dataframe tbody tr th {\n",
       "        vertical-align: top;\n",
       "    }\n",
       "\n",
       "    .dataframe thead th {\n",
       "        text-align: right;\n",
       "    }\n",
       "</style>\n",
       "<table border=\"1\" class=\"dataframe\">\n",
       "  <thead>\n",
       "    <tr style=\"text-align: right;\">\n",
       "      <th></th>\n",
       "      <th>age</th>\n",
       "      <th>gender</th>\n",
       "      <th>user_id</th>\n",
       "    </tr>\n",
       "  </thead>\n",
       "  <tbody>\n",
       "    <tr>\n",
       "      <th>0</th>\n",
       "      <td>51</td>\n",
       "      <td>f</td>\n",
       "      <td>0</td>\n",
       "    </tr>\n",
       "    <tr>\n",
       "      <th>1</th>\n",
       "      <td>49</td>\n",
       "      <td>f</td>\n",
       "      <td>1</td>\n",
       "    </tr>\n",
       "    <tr>\n",
       "      <th>2</th>\n",
       "      <td>35</td>\n",
       "      <td>m</td>\n",
       "      <td>2</td>\n",
       "    </tr>\n",
       "    <tr>\n",
       "      <th>3</th>\n",
       "      <td>63</td>\n",
       "      <td>m</td>\n",
       "      <td>3</td>\n",
       "    </tr>\n",
       "    <tr>\n",
       "      <th>4</th>\n",
       "      <td>27</td>\n",
       "      <td>f</td>\n",
       "      <td>4</td>\n",
       "    </tr>\n",
       "  </tbody>\n",
       "</table>\n",
       "</div>"
      ],
      "text/plain": [
       "   age gender  user_id\n",
       "0   51      f        0\n",
       "1   49      f        1\n",
       "2   35      m        2\n",
       "3   63      m        3\n",
       "4   27      f        4"
      ]
     },
     "execution_count": 42,
     "metadata": {},
     "output_type": "execute_result"
    }
   ],
   "source": [
    "users.head()"
   ]
  },
  {
   "cell_type": "code",
   "execution_count": 6,
   "metadata": {},
   "outputs": [
    {
     "data": {
      "text/html": [
       "<div>\n",
       "<style scoped>\n",
       "    .dataframe tbody tr th:only-of-type {\n",
       "        vertical-align: middle;\n",
       "    }\n",
       "\n",
       "    .dataframe tbody tr th {\n",
       "        vertical-align: top;\n",
       "    }\n",
       "\n",
       "    .dataframe thead th {\n",
       "        text-align: right;\n",
       "    }\n",
       "</style>\n",
       "<table border=\"1\" class=\"dataframe\">\n",
       "  <thead>\n",
       "    <tr style=\"text-align: right;\">\n",
       "      <th></th>\n",
       "      <th>user_id</th>\n",
       "      <th>event_date</th>\n",
       "      <th>age</th>\n",
       "      <th>gender</th>\n",
       "    </tr>\n",
       "  </thead>\n",
       "  <tbody>\n",
       "    <tr>\n",
       "      <th>0</th>\n",
       "      <td>0</td>\n",
       "      <td>2015-02-26 00:00:00</td>\n",
       "      <td>51.0</td>\n",
       "      <td>f</td>\n",
       "    </tr>\n",
       "    <tr>\n",
       "      <th>1</th>\n",
       "      <td>0</td>\n",
       "      <td>2015-03-10 00:00:00</td>\n",
       "      <td>51.0</td>\n",
       "      <td>f</td>\n",
       "    </tr>\n",
       "    <tr>\n",
       "      <th>2</th>\n",
       "      <td>0</td>\n",
       "      <td>2015-03-30 00:00:00</td>\n",
       "      <td>51.0</td>\n",
       "      <td>f</td>\n",
       "    </tr>\n",
       "    <tr>\n",
       "      <th>3</th>\n",
       "      <td>0</td>\n",
       "      <td>2015-02-15 00:00:00</td>\n",
       "      <td>51.0</td>\n",
       "      <td>f</td>\n",
       "    </tr>\n",
       "    <tr>\n",
       "      <th>4</th>\n",
       "      <td>0</td>\n",
       "      <td>2015-02-18 00:00:00</td>\n",
       "      <td>51.0</td>\n",
       "      <td>f</td>\n",
       "    </tr>\n",
       "  </tbody>\n",
       "</table>\n",
       "</div>"
      ],
      "text/plain": [
       "   user_id           event_date   age gender\n",
       "0        0  2015-02-26 00:00:00  51.0      f\n",
       "1        0  2015-03-10 00:00:00  51.0      f\n",
       "2        0  2015-03-30 00:00:00  51.0      f\n",
       "3        0  2015-02-15 00:00:00  51.0      f\n",
       "4        0  2015-02-18 00:00:00  51.0      f"
      ]
     },
     "execution_count": 6,
     "metadata": {},
     "output_type": "execute_result"
    }
   ],
   "source": [
    "event_data = events.merge(users,on='user_id',how='left')\n",
    "event_data.head()"
   ]
  },
  {
   "cell_type": "code",
   "execution_count": 8,
   "metadata": {},
   "outputs": [
    {
     "data": {
      "text/plain": [
       "<matplotlib.axes._subplots.AxesSubplot at 0x7f3ba973d630>"
      ]
     },
     "execution_count": 8,
     "metadata": {},
     "output_type": "execute_result"
    },
    {
     "data": {
      "image/png": "[encoded data removed]",
      "text/plain": [
       "<matplotlib.figure.Figure at 0x7f3bd4052208>"
      ]
     },
     "metadata": {},
     "output_type": "display_data"
    }
   ],
   "source": [
    "event_data[(event_data.age>=30)&(event_data.gender=='m')].groupby('user_id').count()['event_date'].hist()"
   ]
  },
  {
   "cell_type": "code",
   "execution_count": 16,
   "metadata": {},
   "outputs": [],
   "source": [
    "event_data['event_date'] = pd.to_datetime(event_data['event_date'])"
   ]
  },
  {
   "cell_type": "code",
   "execution_count": 17,
   "metadata": {},
   "outputs": [
    {
     "data": {
      "text/html": [
       "<div>\n",
       "<style scoped>\n",
       "    .dataframe tbody tr th:only-of-type {\n",
       "        vertical-align: middle;\n",
       "    }\n",
       "\n",
       "    .dataframe tbody tr th {\n",
       "        vertical-align: top;\n",
       "    }\n",
       "\n",
       "    .dataframe thead th {\n",
       "        text-align: right;\n",
       "    }\n",
       "</style>\n",
       "<table border=\"1\" class=\"dataframe\">\n",
       "  <thead>\n",
       "    <tr style=\"text-align: right;\">\n",
       "      <th></th>\n",
       "      <th>user_id</th>\n",
       "      <th>event_date</th>\n",
       "      <th>age</th>\n",
       "      <th>gender</th>\n",
       "    </tr>\n",
       "  </thead>\n",
       "  <tbody>\n",
       "    <tr>\n",
       "      <th>0</th>\n",
       "      <td>0</td>\n",
       "      <td>2015-02-26</td>\n",
       "      <td>51.0</td>\n",
       "      <td>f</td>\n",
       "    </tr>\n",
       "    <tr>\n",
       "      <th>1</th>\n",
       "      <td>0</td>\n",
       "      <td>2015-03-10</td>\n",
       "      <td>51.0</td>\n",
       "      <td>f</td>\n",
       "    </tr>\n",
       "    <tr>\n",
       "      <th>2</th>\n",
       "      <td>0</td>\n",
       "      <td>2015-03-30</td>\n",
       "      <td>51.0</td>\n",
       "      <td>f</td>\n",
       "    </tr>\n",
       "    <tr>\n",
       "      <th>3</th>\n",
       "      <td>0</td>\n",
       "      <td>2015-02-15</td>\n",
       "      <td>51.0</td>\n",
       "      <td>f</td>\n",
       "    </tr>\n",
       "    <tr>\n",
       "      <th>4</th>\n",
       "      <td>0</td>\n",
       "      <td>2015-02-18</td>\n",
       "      <td>51.0</td>\n",
       "      <td>f</td>\n",
       "    </tr>\n",
       "  </tbody>\n",
       "</table>\n",
       "</div>"
      ],
      "text/plain": [
       "   user_id event_date   age gender\n",
       "0        0 2015-02-26  51.0      f\n",
       "1        0 2015-03-10  51.0      f\n",
       "2        0 2015-03-30  51.0      f\n",
       "3        0 2015-02-15  51.0      f\n",
       "4        0 2015-02-18  51.0      f"
      ]
     },
     "execution_count": 17,
     "metadata": {},
     "output_type": "execute_result"
    }
   ],
   "source": [
    "event_data.head()"
   ]
  },
  {
   "cell_type": "code",
   "execution_count": 18,
   "metadata": {},
   "outputs": [
    {
     "data": {
      "text/plain": [
       "(30593, 4)"
      ]
     },
     "execution_count": 18,
     "metadata": {},
     "output_type": "execute_result"
    }
   ],
   "source": [
    "event_data.shape"
   ]
  },
  {
   "cell_type": "code",
   "execution_count": 29,
   "metadata": {},
   "outputs": [],
   "source": [
    "event_data.sort_values(['user_id','event_date'],inplace=True)"
   ]
  },
  {
   "cell_type": "markdown",
   "metadata": {},
   "source": [
    "## Easy way to calculate interevent intervals"
   ]
  },
  {
   "cell_type": "code",
   "execution_count": 43,
   "metadata": {},
   "outputs": [
    {
     "data": {
      "text/plain": [
       "<matplotlib.axes._subplots.AxesSubplot at 0x7f3b9f4daef0>"
      ]
     },
     "execution_count": 43,
     "metadata": {},
     "output_type": "execute_result"
    },
    {
     "data": {
      "image/png": "[encoded data removed]",
      "text/plain": [
       "<matplotlib.figure.Figure at 0x7f3b9f4fcf98>"
      ]
     },
     "metadata": {},
     "output_type": "display_data"
    }
   ],
   "source": [
    "event_data.groupby('user_id')['event_date'].diff().dt.days.dropna().hist(bins=200)"
   ]
  },
  {
   "cell_type": "markdown",
   "metadata": {},
   "source": [
    "## Difficult way to calculate interevent intervals"
   ]
  },
  {
   "cell_type": "code",
   "execution_count": 20,
   "metadata": {},
   "outputs": [],
   "source": [
    "interevent = []\n",
    "for user_id in range(0,97):\n",
    "    interevent.extend(event_data[event_data.user_id==user_id].sort_values('event_date')['event_date'].diff().dt.days.dropna().tolist())"
   ]
  },
  {
   "cell_type": "code",
   "execution_count": 41,
   "metadata": {},
   "outputs": [
    {
     "data": {
      "image/png": "[encoded data removed]",
      "text/plain": [
       "<matplotlib.figure.Figure at 0x7f3b9f7c54a8>"
      ]
     },
     "metadata": {},
     "output_type": "display_data"
    }
   ],
   "source": [
    "ax = plt.hist(interevent,bins=30)\n",
    "#plt.xlim((-1,15))"
   ]
  },
  {
   "cell_type": "code",
   "execution_count": 152,
   "metadata": {},
   "outputs": [
    {
     "data": {
      "text/plain": [
       "array([   1.,    1.,    1., ...,  137.,  161.,  193.])"
      ]
     },
     "execution_count": 152,
     "metadata": {},
     "output_type": "execute_result"
    }
   ],
   "source": [
    "np.sort(interevent)[-13000:]"
   ]
  },
  {
   "cell_type": "markdown",
   "metadata": {},
   "source": [
    "# BONUS INTERACTIVE PLOT"
   ]
  },
  {
   "cell_type": "code",
   "execution_count": 12,
   "metadata": {},
   "outputs": [],
   "source": [
    "import numpy as np\n",
    "\n",
    "from bokeh.layouts import gridplot\n",
    "from bokeh.plotting import figure, show, output_file\n",
    "\n",
    "new_data = data.groupby('MMWR WEEK')['All causes, by age (years), >=65'].mean()\n",
    "\n",
    "p1 = figure(x_axis_type='auto', \n",
    "            title=\"Deaths in older age group\",\n",
    "            plot_height=20,plot_width=20)\n",
    "p1.grid.grid_line_alpha=0.3\n",
    "\n",
    "p1.line(x=[i for i in range(1,40)],y=new_data,color='#FB9A99')\n",
    "p1.legend.location = \"top_left\"\n",
    "\n",
    "\n",
    "output_file(\"interactive.html\", title=\"interactive example\")\n",
    "\n",
    "show(gridplot([[p1]], plot_width=400, plot_height=400))  \n",
    "\n",
    "# open a browser"
   ]
  }
 ],
 "metadata": {
  "kernelspec": {
   "display_name": "Python 3",
   "language": "python",
   "name": "python3"
  },
  "language_info": {
   "codemirror_mode": {
    "name": "ipython",
    "version": 3
   },
   "file_extension": ".py",
   "mimetype": "text/x-python",
   "name": "python",
   "nbconvert_exporter": "python",
   "pygments_lexer": "ipython3",
   "version": "3.5.4"
  }
 },
 "nbformat": 4,
 "nbformat_minor": 2
}
